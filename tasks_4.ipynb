{
  "nbformat": 4,
  "nbformat_minor": 0,
  "metadata": {
    "colab": {
      "provenance": [],
      "authorship_tag": "ABX9TyN95F74gXPea3tR4WwuaMkC",
      "include_colab_link": true
    },
    "kernelspec": {
      "name": "python3",
      "display_name": "Python 3"
    },
    "language_info": {
      "name": "python"
    }
  },
  "cells": [
    {
      "cell_type": "markdown",
      "metadata": {
        "id": "view-in-github",
        "colab_type": "text"
      },
      "source": [
        "<a href=\"https://colab.research.google.com/github/Yuvaneshwar555/PRODIGY/blob/main/tasks_4.ipynb\" target=\"_parent\"><img src=\"https://colab.research.google.com/assets/colab-badge.svg\" alt=\"Open In Colab\"/></a>"
      ]
    },
    {
      "cell_type": "code",
      "execution_count": null,
      "metadata": {
        "colab": {
          "base_uri": "https://localhost:8080/",
          "height": 750
        },
        "id": "jw18tflNxIcj",
        "outputId": "8b0a279a-5d32-4ddb-9bde-c2462c55737e"
      },
      "outputs": [
        {
          "output_type": "stream",
          "name": "stdout",
          "text": [
            "\n",
            "🔍 Sample of my data:\n",
            "                                                text sentiment\n",
            "0     I love the new phone I bought! Amazing camera.  positive\n",
            "1  The delivery was late and the package was dama...  negative\n",
            "2  Support team was helpful, fixed my issue in mi...  positive\n",
            "3  Totally disappointed with the product. Waste o...  negative\n",
            "4            Such a great deal! Highly recommend it.  positive\n",
            "\n",
            "✅ Accuracy score:\n",
            "0.0\n",
            "\n",
            "📊 Confusion Matrix:\n",
            "[[0 0 0]\n",
            " [1 0 0]\n",
            " [2 0 0]]\n"
          ]
        },
        {
          "output_type": "display_data",
          "data": {
            "text/plain": [
              "<Figure size 640x480 with 1 Axes>"
            ],
            "image/png": "[encoded data removed]"
          },
          "metadata": {}
        }
      ],
      "source": [
        "#  These are the libraries everyone on YouTube told me to install first\n",
        "import pandas as pd\n",
        "from sklearn.feature_extraction.text import TfidfVectorizer\n",
        "from sklearn.naive_bayes import MultinomialNB\n",
        "from sklearn.model_selection import train_test_split\n",
        "from sklearn.metrics import accuracy_score, confusion_matrix\n",
        "import matplotlib.pyplot as plt\n",
        "\n",
        "#  Loading my own mini dataset (manually created by me for learning)\n",
        "df = pd.read_csv(\"custom_social_sentiment.csv\")\n",
        "\n",
        "print(\"\\n Sample of my data:\")\n",
        "print(df.head())\n",
        "\n",
        "#  Features and target\n",
        "X = df[\"text\"]\n",
        "y = df[\"sentiment\"]\n",
        "\n",
        "#  Turning text into numbers using TF-IDF (learned this is better than just CountVectorizer)\n",
        "vectorizer = TfidfVectorizer()\n",
        "X_vect = vectorizer.fit_transform(X)\n",
        "\n",
        "#  Splitting into train and test so I can check if my model is working\n",
        "X_train, X_test, y_train, y_test = train_test_split(X_vect, y, test_size=0.3, random_state=1)\n",
        "\n",
        "#  Model: Naive Bayes (it’s simple and works well with text)\n",
        "model = MultinomialNB()\n",
        "model.fit(X_train, y_train)\n",
        "\n",
        "#  Predictions\n",
        "y_pred = model.predict(X_test)\n",
        "\n",
        "#  Accuracy\n",
        "print(\"\\n Accuracy score:\")\n",
        "print(accuracy_score(y_test, y_pred))\n",
        "\n",
        "#  Confusion Matrix\n",
        "print(\"\\n Confusion Matrix:\")\n",
        "print(confusion_matrix(y_test, y_pred))\n",
        "\n",
        "#  Bonus: Bar chart of predictions\n",
        "import seaborn as sns\n",
        "sns.countplot(x=y_pred)\n",
        "plt.title(\"Predicted Sentiments by My Model\")\n",
        "plt.xlabel(\"Sentiment\")\n",
        "plt.ylabel(\"Count\")\n",
        "plt.show()\n"
      ]
    }
  ]
}